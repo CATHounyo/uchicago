{
 "cells": [
  {
   "cell_type": "markdown",
   "metadata": {},
   "source": [
    "### GIT - Why and How\n",
    "\n",
    "Very simple wlakthrough to setup GIT"
   ]
  },
  {
   "cell_type": "markdown",
   "metadata": {},
   "source": [
    "Version control is critical to any project nowadays. Whether you're working on a personal project or not; you should consider using GIT. \n",
    "\n",
    "Some of the reasons for that:\n",
    "\n",
    "<ul>\n",
    "    <li>You effectively get a time machine to view all your commits</li>\n",
    "    <li>Never create multiple copies of the same file with the usual '_version*' suffix</li>\n",
    "    <li>Creating different branches for features or users</li>\n",
    "    <li>Amazing tools to resolve conflicts between different developers</li>\n",
    "</ul>\n",
    "\n",
    "<ul>\n",
    "    Steps\n",
    "    <ol>\n",
    "        <li><a href=\"https://github.com/\">Sign UP/</a></li>\n",
    "        <li><a href=\"https://git-scm.com/downloads\">Install GIT + GIT BASH</a></li>\n",
    "        <li><a href=\"https://desktop.github.com/\">Optional Install GitHub</a></li>\n",
    "        <li><a href=\"https://help.github.com/en/github/authenticating-to-github/connecting-to-github-with-ssh\">SSH</a></li>\n",
    "    </ol>\n",
    "</ul>"
   ]
  },
  {
   "cell_type": "code",
   "execution_count": null,
   "metadata": {},
   "outputs": [],
   "source": []
  }
 ],
 "metadata": {
  "kernelspec": {
   "display_name": "Python 3",
   "language": "python",
   "name": "python3"
  },
  "language_info": {
   "codemirror_mode": {
    "name": "ipython",
    "version": 3
   },
   "file_extension": ".py",
   "mimetype": "text/x-python",
   "name": "python",
   "nbconvert_exporter": "python",
   "pygments_lexer": "ipython3",
   "version": "3.7.3"
  }
 },
 "nbformat": 4,
 "nbformat_minor": 2
}
