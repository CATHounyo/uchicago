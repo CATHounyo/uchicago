{
 "cells": [
  {
   "cell_type": "markdown",
   "metadata": {},
   "source": [
    "### Why SQLAlchemy?\n",
    "\n",
    "SQLAlchemy and ORM packages are very popular with pythond developers working on non-data science related software/webapps. I think one of the main reasons are \"protection against sql injection attacks\" but it can also be hard to update a project written with [`cx_oracle`](https://cx-oracle.readthedocs.io/en/latest/) when the project owners decide to migrate to a PostGresSQL database for example (migrations happen and not always to the cloud). Imagine how much harder it would be if all the queries were just long multiline strings!\n",
    "\n",
    "<ol>\n",
    "    <li>Consitent cursor/engine methods</li>\n",
    "    <li>Easy access to table metadata</li>\n",
    "    <li>Better control over table architecture</li>\n",
    "    <li>Refractoring is made EASY</li>\n",
    "</ol>\n",
    "\n",
    "Notes:\n",
    "<ol>\n",
    "    <li>\n",
    "        Interfacing with databases is not always straigh forward in python. Although the [DBAPI](https://www.python.org/dev/peps/pep-0249/) specs provides a standard, different developers are free to structure/name their methods as they see fit.\n",
    "    </li>\n",
    "    <li>\n",
    "        There are methods and objects that come with SQLAlchemy that allow the user to quickly derive table metadata. This saves time from switching between your python IDE and Oracle SQL Developer for example.\n",
    "    </li>\n",
    "    <li>\n",
    "        There is nothing like having great control over the structure of the table you are responsible for. You must make sure that all primary keys are properly identified, that all columns that cannot be null are distinguishable and that database defaults are set.\n",
    "    </li>\n",
    "    <li>\n",
    "        If you use an IDE like Pycharm, you probably love how easy it is to refractor objects. Refractoring objects/variables are very easy and the fact that SQLAlchemy provides the object representation of tables and columns; refractoring is often (not always) a piece of cake.\n",
    "    </li>\n",
    "    \n",
    "</ol>"
   ]
  },
  {
   "cell_type": "markdown",
   "metadata": {},
   "source": [
    "#### Setup"
   ]
  },
  {
   "cell_type": "code",
   "execution_count": 1,
   "metadata": {},
   "outputs": [],
   "source": [
    "import sqlalchemy as sa\n",
    "import sqlalchemy.orm as orm\n",
    "from sqlalchemy.ext.declarative import declarative_base\n",
    "from contextlib import contextmanager"
   ]
  },
  {
   "cell_type": "code",
   "execution_count": 2,
   "metadata": {},
   "outputs": [],
   "source": [
    "@contextmanager\n",
    "def create_engine():\n",
    "    try:\n",
    "        engine = sa.create_engine(\"sqlite:///\")\n",
    "        yield engine\n",
    "    finally:\n",
    "        engine.dispose()"
   ]
  },
  {
   "cell_type": "code",
   "execution_count": 3,
   "metadata": {},
   "outputs": [
    {
     "name": "stdout",
     "output_type": "stream",
     "text": [
      "The engine has 1 tables within this context\n",
      "The engine has 0 tables outside the context\n"
     ]
    }
   ],
   "source": [
    "# providing the engine via context manager makes it easy to clear all metadata once a specific task is done\n",
    "# this is just for safety purposes really. Consider this context for example where a table is being added to the database\n",
    "with create_engine() as engine:\n",
    "    table = sa.Table('temp', sa.MetaData())\n",
    "    table.append_column(sa.Column('id', sa.String(2), primary_key=True))\n",
    "    table.create(engine)\n",
    "    \n",
    "    print(f\"The engine has {len(engine.table_names())} tables within this context\")\n",
    "    \n",
    "print(f\"The engine has {len(engine.table_names())} tables outside the context\")"
   ]
  },
  {
   "cell_type": "markdown",
   "metadata": {},
   "source": [
    "#### Consistent Cursor/Engine Methods"
   ]
  },
  {
   "cell_type": "code",
   "execution_count": null,
   "metadata": {},
   "outputs": [],
   "source": []
  }
 ],
 "metadata": {
  "kernelspec": {
   "display_name": "Python 3",
   "language": "python",
   "name": "python3"
  },
  "language_info": {
   "codemirror_mode": {
    "name": "ipython",
    "version": 3
   },
   "file_extension": ".py",
   "mimetype": "text/x-python",
   "name": "python",
   "nbconvert_exporter": "python",
   "pygments_lexer": "ipython3",
   "version": "3.6.6"
  }
 },
 "nbformat": 4,
 "nbformat_minor": 2
}
